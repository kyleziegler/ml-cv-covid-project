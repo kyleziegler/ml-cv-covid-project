{
 "cells": [
  {
   "cell_type": "code",
   "execution_count": null,
   "metadata": {},
   "outputs": [],
   "source": [
    "import os\n",
    "import cv2\n",
    "import numpy as np\n",
    "\n",
    "import matplotlib.pyplot as plt\n",
    "\n",
    "import tensorflow as tf\n",
    "print(tf.__version__)\n",
    "print(\"Num GPUs Available: \", len(tf.config.list_physical_devices('GPU')))"
   ]
  },
  {
   "cell_type": "code",
   "execution_count": null,
   "metadata": {},
   "outputs": [],
   "source": [
    "def get_files(label_file):\n",
    "    \"\"\"Loads image filenames, classes, and bounding boxes\"\"\"\n",
    "    files, classes, bboxes = [], [], []\n",
    "    with open(label_file, 'r') as f:\n",
    "        for line in f.readlines():\n",
    "            fname, cls, xmin, ymin, xmax, ymax = line.strip('\\n').split()\n",
    "            files.append(os.path.join(image_dir, fname))\n",
    "            classes.append(int(cls))\n",
    "            bboxes.append((int(xmin), int(ymin), int(xmax), int(ymax)))\n",
    "    return files, classes, bboxes"
   ]
  },
  {
   "cell_type": "code",
   "execution_count": null,
   "metadata": {},
   "outputs": [],
   "source": [
    "image_dir = '/home/jupyter/covid-proj/data/2A_images'\n",
    "label_file = '/home/jupyter/covid-proj/data/all_labels.txt'\n",
    "\n",
    "from PIL import Image\n",
    "import matplotlib.patches as patches\n",
    "\n",
    "# Load labels\n",
    "files, classes, bboxes = get_files(label_file)\n",
    "\n",
    "np.random.seed(27)\n",
    "indices = np.random.choice(list(range(len(files))), 9)\n",
    "\n",
    "# Plot images\n",
    "fig, axes = plt.subplots(3, 3, figsize=(16, 16))\n",
    "class_names = ('Normal', 'Pneumonia', 'COVID-19')\n",
    "for index, ax in zip(indices, axes.ravel()):\n",
    "    image_file = files[index]\n",
    "    image = plt.imread(image_file)\n",
    "    ax.imshow(image)\n",
    "    # print(image.shape)\n",
    "\n",
    "    # Bounding box\n",
    "    image = np.stack([image]*3, axis=-1)  # make image 3-channel\n",
    "    bbox = bboxes[index]\n",
    "    # print(bbox)\n",
    "    height = bbox[3]-bbox[1]\n",
    "    width = bbox[2]-bbox[0]\n",
    "\n",
    "    rect = patches.Rectangle(tuple(bbox[0::1]), height=height, width=width, linewidth=4, facecolor='none', fill='none', edgecolor='r')\n",
    "    ax.add_patch(rect)\n",
    "    # image.show()\n",
    "\n",
    "    cls = classes[index]\n",
    "    ax.set_title('Class: {} ({})'.format(class_names[cls], cls))\n",
    "plt.show()"
   ]
  }
 ],
 "metadata": {
  "language_info": {
   "name": "python"
  },
  "orig_nbformat": 4
 },
 "nbformat": 4,
 "nbformat_minor": 2
}
